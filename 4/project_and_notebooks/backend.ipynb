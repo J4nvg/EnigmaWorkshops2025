{
 "cells": [
  {
   "metadata": {},
   "cell_type": "markdown",
   "source": "# Backend for the final project!",
   "id": "195d75943a3949d3"
  },
  {
   "metadata": {},
   "cell_type": "markdown",
   "source": [
    "In this notebook, we will learn a few things.\n",
    "- Quick async and asyncio introduction\n",
    "- How to load API keys\n",
    "- How to setup FastAPI endpoints\n",
    "- How to make models with Pydantic for data validation\n",
    "- How to launch the uvicorn server"
   ],
   "id": "56504f1ae5eb6ca4"
  },
  {
   "metadata": {},
   "cell_type": "markdown",
   "source": "*FOR THE BEST EXPERIENCE, IT'S RECOMMENDED AND ENCOURAGED NOT TO RUN CODE IN THE NOTEBOOK, BUT COPY THE CODE AND RUN IT IN A USUAL ```.py``` FILE*",
   "id": "dd4e77b58861202a"
  },
  {
   "metadata": {},
   "cell_type": "markdown",
   "source": [
    "## 🚀 Asynchronous programming\n",
    "Understanding async and await in Python:\n",
    "- async and await are used for writing asynchronous (non-blocking) code.\n",
    "- Instead of waiting for one task to finish before starting another, async functions run concurrently.\n",
    "- This is useful for I/O-bound tasks like API requests, database queries, and file operations.\n",
    "\n",
    "Let's consider a few examples to get a grasp of it:"
   ],
   "id": "462174e3296a1598"
  },
  {
   "metadata": {},
   "cell_type": "code",
   "source": [
    "# By default, all code in python is synchronous and blocking.\n",
    "# You cannot execute the next line of code unless the previous one is completed\n",
    "\n",
    "import time\n",
    "\n",
    "def task():\n",
    "    print(\"Task started\")\n",
    "    time.sleep(2)  # Simulating a delay\n",
    "    print(\"Task completed\")\n",
    "\n",
    "print(\"Before task\")\n",
    "task()\n",
    "print(\"After task\")\n"
   ],
   "id": "7cc695f84e6ea927",
   "outputs": [],
   "execution_count": null
  },
  {
   "metadata": {},
   "cell_type": "code",
   "source": [
    "import asyncio\n",
    "\n",
    "# here we define two separate tasks and launch them together\n",
    "# they run concurrently\n",
    "# (this cell will not run from the .ipynb)\n",
    "\n",
    "async def task1():\n",
    "    print(\"Task 1 started\")\n",
    "    await asyncio.sleep(2)\n",
    "    x = \"Task 1 result\"\n",
    "    print(\"Task 1 completed\")\n",
    "    return await x\n",
    "\n",
    "async def task2():\n",
    "    print(\"Task 2 started\")\n",
    "    await asyncio.sleep(1)\n",
    "    x = \"Task 2 result\"\n",
    "    print(\"Task 2 completed\")\n",
    "    return await x\n",
    "\n",
    "async def main():\n",
    "    await asyncio.gather(task1(), task2())  # Run both tasks in parallel\n",
    "\n",
    "# async functions have to be awaited - thats where we use await keyword\n",
    "# async functions can run within main code loop but they will not return what we want, because they were not awaited\n",
    "# we can use asyncio library to await them in a synchronous context\n",
    "\n",
    "main() # - will not return print statements\n",
    "asyncio.run(main()) # - will resolve normally"
   ],
   "id": "bc7eb363aec9f432",
   "outputs": [],
   "execution_count": null
  },
  {
   "metadata": {},
   "cell_type": "markdown",
   "source": "This will become very important once we get to FastAPI, a library that allows us to build endpoints that can process user requests in parallel",
   "id": "cbfe78e32bd24b81"
  },
  {
   "metadata": {},
   "cell_type": "markdown",
   "source": [
    "## 📌 API Key Management\n",
    "API keys are stored in an `.env` file and loaded using `dotenv`. This ensures security by keeping keys outside the codebase. They are used to access API endpoints of different services. The provider gives you access to the resources with the keys."
   ],
   "id": "17103ca3"
  },
  {
   "metadata": {},
   "cell_type": "markdown",
   "source": "Usually, you would have to setup the API keys as your machine's environment variables. ```dotenv``` library helps us do it the fastest way. But first we need to put all our keys into a ```.env``` file.",
   "id": "1310a5460f4ead92"
  },
  {
   "metadata": {},
   "cell_type": "code",
   "outputs": [],
   "execution_count": null,
   "source": [
    "import os\n",
    "from dotenv import load_dotenv\n",
    "\n",
    "dotenv_path = os.path.join(os.path.dirname(__file__), '.env')\n",
    "load_dotenv(dotenv_path=dotenv_path, override=True)\n",
    "\n",
    "print(os.environ['OPENAI_API_KEY'])  # Ensure API key is loaded\n",
    "print(os.environ['TAVILY_API_KEY'])"
   ],
   "id": "9f627b3d"
  },
  {
   "metadata": {},
   "cell_type": "markdown",
   "source": "## 🚀 Backend API with FastAPI\n",
   "id": "e5dd25ffeca272f5"
  },
  {
   "metadata": {},
   "cell_type": "markdown",
   "source": [
    "### Why FastAPI?\n",
    "FastAPI is a modern, fast (high-performance) web framework for building APIs with Python 3.7+, based on type hints.\n",
    "\n",
    "It is built on a few principles:\n",
    "- Data Validation: you need to define the data models of inbound and outbound requests\n",
    "- Automatic: built in Swagger UI to test your endpoints and OpenAPI format documentation\n",
    "- Easy-to-Use: you can define your endpoints and you are basically ready to perform operations"
   ],
   "id": "e707bb54"
  },
  {
   "metadata": {},
   "cell_type": "markdown",
   "source": [
    "## FastAPI Setup\n",
    "FastAPI allows us to define API endpoints easily. First, we instantiate the app:"
   ],
   "id": "70edfe5d"
  },
  {
   "metadata": {},
   "cell_type": "code",
   "source": [
    "from fastapi import FastAPI\n",
    "app = FastAPI()  # Create FastAPI instance"
   ],
   "id": "d28d52ed",
   "outputs": [],
   "execution_count": null
  },
  {
   "metadata": {},
   "cell_type": "markdown",
   "source": "This is our main body of the backend. Further we are going to build an endpoint and define request and response models.",
   "id": "d783b6bc949c1e57"
  },
  {
   "metadata": {},
   "cell_type": "markdown",
   "source": [
    "## 📌 Request Models with Pydantic\n",
    "FastAPI uses Pydantic for data validation.\n",
    "We need to define models for requests and responses.\n",
    "This ensures we always receive and send data that is predictable.\n",
    "Pydantic is a library just made for that!\n",
    "It allows FastAPI to dynamically validate inbound and outbound requests."
   ],
   "id": "80ce6301"
  },
  {
   "metadata": {},
   "cell_type": "code",
   "source": [
    "from pydantic import BaseModel\n",
    "\n",
    "# Here we define the user request, which will be a string\n",
    "class QueryRequest(BaseModel):\n",
    "    prompt: str\n",
    "\n",
    "# This will be our response model\n",
    "class QueryResponse(BaseModel):\n",
    "    response: str"
   ],
   "id": "8e0fe2bb",
   "outputs": [],
   "execution_count": null
  },
  {
   "metadata": {},
   "cell_type": "markdown",
   "source": "We can access attributes of the data model as a class attribute: ```QueryRequest.prompt```",
   "id": "eb7fd51946cbdfa7"
  },
  {
   "metadata": {},
   "cell_type": "markdown",
   "source": [
    "## 📌 Defining API Endpoints\n",
    "We now define endpoints for querying the LLM and setting up API keys. For that we need to define the URL of our endpoint.\n",
    "\n",
    "Consider this function."
   ],
   "id": "db1a5da6"
  },
  {
   "metadata": {},
   "cell_type": "code",
   "outputs": [],
   "execution_count": null,
   "source": [
    "async def simple_response(prompt: str):\n",
    "    return {\"response\": prompt}"
   ],
   "id": "c8a1e29c4ac355bc"
  },
  {
   "metadata": {},
   "cell_type": "markdown",
   "source": [
    "Its a simple dummy function to return the incoming prompt back. Notice the return format: it has a key ```response``` just as QueryResponse model.\n",
    "Now we can actually make a working endpoint for our function."
   ],
   "id": "d6f012c5a71343be"
  },
  {
   "metadata": {},
   "cell_type": "code",
   "outputs": [],
   "execution_count": null,
   "source": [
    "@app.post('/query', response_model=QueryResponse)\n",
    "async def simple_query(payload: QueryRequest):\n",
    "    response = await simple_response(payload.prompt)\n",
    "    return response"
   ],
   "id": "2f98b3b7"
  },
  {
   "metadata": {},
   "cell_type": "markdown",
   "source": "Notice the ```response_model``` parameter and what we return. Given that FastAPI has internal data validation it will throw exceptions if we try to send a request to our endpoint with data that doesn't fit our validation model, as well as FastAPI will not let us send data that doesn't fit our ```response_model```.",
   "id": "a66ce75e64acace2"
  },
  {
   "cell_type": "markdown",
   "id": "71f612dc",
   "metadata": {},
   "source": [
    "## 📌 Running the API\n",
    "To actually access our endpoints, we need to launch a server locally. One of such servers is uvicorn, which is often paired with FastAPI.\n",
    "Run the following command in the terminal to start the FastAPI server using uvicorn:\n",
    "```sh\n",
    "uvicorn main:app --reload\n",
    "```\n",
    "Visit `127.0.0.1:8000/docs` to test the endpoints interactively."
   ]
  }
 ],
 "metadata": {
  "kernelspec": {
   "name": "python3",
   "language": "python",
   "display_name": "Python 3 (ipykernel)"
  }
 },
 "nbformat": 4,
 "nbformat_minor": 5
}
